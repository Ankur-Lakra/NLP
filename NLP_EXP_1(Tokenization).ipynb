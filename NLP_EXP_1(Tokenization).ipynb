{
  "nbformat": 4,
  "nbformat_minor": 0,
  "metadata": {
    "colab": {
      "provenance": []
    },
    "kernelspec": {
      "name": "python3",
      "display_name": "Python 3"
    },
    "language_info": {
      "name": "python"
    }
  },
  "cells": [
    {
      "cell_type": "code",
      "execution_count": 1,
      "metadata": {
        "colab": {
          "base_uri": "https://localhost:8080/"
        },
        "id": "D9y7_Sqdh7Xb",
        "outputId": "650837e8-e9c0-421a-c9b0-4d25f25756cf"
      },
      "outputs": [
        {
          "output_type": "stream",
          "name": "stderr",
          "text": [
            "[nltk_data] Downloading package punkt to /root/nltk_data...\n",
            "[nltk_data]   Unzipping tokenizers/punkt.zip.\n"
          ]
        }
      ],
      "source": [
        "import nltk\n",
        "nltk.download('punkt')\n",
        "from nltk import word_tokenize, sent_tokenize, RegexpTokenizer\n",
        "\n",
        "text = \"Hello world! It's a beautiful day. Let's go for a walk.\""
      ]
    },
    {
      "cell_type": "code",
      "source": [
        "# Word tokenization\n",
        "word_tokens = word_tokenize(text)\n",
        "print(\"Word tokens:\", word_tokens)"
      ],
      "metadata": {
        "colab": {
          "base_uri": "https://localhost:8080/"
        },
        "id": "b6c5bP2FiCTl",
        "outputId": "e49ba397-7b31-47c7-fc5b-c914aab44a3b"
      },
      "execution_count": 2,
      "outputs": [
        {
          "output_type": "stream",
          "name": "stdout",
          "text": [
            "Word tokens: ['Hello', 'world', '!', 'It', \"'s\", 'a', 'beautiful', 'day', '.', 'Let', \"'s\", 'go', 'for', 'a', 'walk', '.']\n"
          ]
        }
      ]
    },
    {
      "cell_type": "code",
      "source": [
        "# Sentence tokenization\n",
        "sentence_tokens = sent_tokenize(text)\n",
        "print(\"Sentence tokens:\", sentence_tokens)"
      ],
      "metadata": {
        "colab": {
          "base_uri": "https://localhost:8080/"
        },
        "id": "hnqAoO7riGtq",
        "outputId": "1c6fa1d2-d0d6-4212-c7f9-56a1d78d0525"
      },
      "execution_count": 3,
      "outputs": [
        {
          "output_type": "stream",
          "name": "stdout",
          "text": [
            "Sentence tokens: ['Hello world!', \"It's a beautiful day.\", \"Let's go for a walk.\"]\n"
          ]
        }
      ]
    },
    {
      "cell_type": "code",
      "source": [
        "# Regular expression tokenizer\n",
        "custom_tokenizer = RegexpTokenizer(\"[\\w']{3,}\")\n",
        "custom_tokens = custom_tokenizer.tokenize(text)\n",
        "print(\"Custom tokens:\", custom_tokens)"
      ],
      "metadata": {
        "colab": {
          "base_uri": "https://localhost:8080/"
        },
        "id": "K3vVw2FViJKA",
        "outputId": "a994d862-7634-4c63-8b52-3aaf597c7739"
      },
      "execution_count": 4,
      "outputs": [
        {
          "output_type": "stream",
          "name": "stdout",
          "text": [
            "Custom tokens: ['Hello', 'world', \"It's\", 'beautiful', 'day', \"Let's\", 'for', 'walk']\n"
          ]
        }
      ]
    },
    {
      "cell_type": "code",
      "source": [
        "# Split tokenizer\n",
        "split_tokens = text.split()\n",
        "print(\"Split tokens:\", split_tokens)"
      ],
      "metadata": {
        "colab": {
          "base_uri": "https://localhost:8080/"
        },
        "id": "fQPUmR1ciK2h",
        "outputId": "3a5b85e1-7f0d-4030-a560-1a95321742ce"
      },
      "execution_count": 5,
      "outputs": [
        {
          "output_type": "stream",
          "name": "stdout",
          "text": [
            "Split tokens: ['Hello', 'world!', \"It's\", 'a', 'beautiful', 'day.', \"Let's\", 'go', 'for', 'a', 'walk.']\n"
          ]
        }
      ]
    }
  ]
}
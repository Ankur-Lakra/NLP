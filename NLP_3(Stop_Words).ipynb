{
  "nbformat": 4,
  "nbformat_minor": 0,
  "metadata": {
    "colab": {
      "provenance": []
    },
    "kernelspec": {
      "name": "python3",
      "display_name": "Python 3"
    },
    "language_info": {
      "name": "python"
    }
  },
  "cells": [
    {
      "cell_type": "code",
      "execution_count": 2,
      "metadata": {
        "colab": {
          "base_uri": "https://localhost:8080/"
        },
        "id": "tdyr_H3-n-cg",
        "outputId": "83976ca6-aa7f-4c83-9f77-a31862ed4ec1"
      },
      "outputs": [
        {
          "output_type": "stream",
          "name": "stdout",
          "text": [
            "Requirement already satisfied: nltk in /usr/local/lib/python3.10/dist-packages (3.8.1)\n",
            "Requirement already satisfied: click in /usr/local/lib/python3.10/dist-packages (from nltk) (8.1.7)\n",
            "Requirement already satisfied: joblib in /usr/local/lib/python3.10/dist-packages (from nltk) (1.3.2)\n",
            "Requirement already satisfied: regex>=2021.8.3 in /usr/local/lib/python3.10/dist-packages (from nltk) (2023.12.25)\n",
            "Requirement already satisfied: tqdm in /usr/local/lib/python3.10/dist-packages (from nltk) (4.66.1)\n"
          ]
        },
        {
          "output_type": "stream",
          "name": "stderr",
          "text": [
            "[nltk_data] Downloading package punkt to /root/nltk_data...\n",
            "[nltk_data]   Unzipping tokenizers/punkt.zip.\n",
            "[nltk_data] Downloading package movie_reviews to /root/nltk_data...\n",
            "[nltk_data]   Unzipping corpora/movie_reviews.zip.\n"
          ]
        },
        {
          "output_type": "execute_result",
          "data": {
            "text/plain": [
              "True"
            ]
          },
          "metadata": {},
          "execution_count": 2
        }
      ],
      "source": [
        "!pip install nltk\n",
        "import nltk\n",
        "nltk.download('punkt')\n",
        "import pandas as pd\n",
        "nltk.download('movie_reviews')"
      ]
    },
    {
      "cell_type": "code",
      "source": [
        "from nltk.corpus import movie_reviews\n",
        "review_para = movie_reviews.paras()[2]\n",
        "review = [\" \".join(i) for i in review_para]\n",
        "review = ' '.join(review[0:15])"
      ],
      "metadata": {
        "id": "1bueVuSQoAEx"
      },
      "execution_count": 3,
      "outputs": []
    },
    {
      "cell_type": "code",
      "source": [
        "review"
      ],
      "metadata": {
        "colab": {
          "base_uri": "https://localhost:8080/",
          "height": 140
        },
        "id": "UvtWX2oZoMUm",
        "outputId": "31935255-c701-494b-ec4f-2169d9841180"
      },
      "execution_count": 4,
      "outputs": [
        {
          "output_type": "execute_result",
          "data": {
            "text/plain": [
              "\"it is movies like these that make a jaded movie viewer thankful for the invention of the timex indiglo watch . based on the late 1960 ' s television show by the same name , the mod squad tells the tale of three reformed criminals under the employ of the police to go undercover . however , things go wrong as evidence gets stolen and they are immediately under suspicion . of course , the ads make it seem like so much more . quick cuts , cool music , claire dane ' s nice hair and cute outfits , car chases , stuff blowing up , and the like . sounds like a cool movie , does it not ? after the first fifteen minutes , it quickly becomes apparent that it is not . the mod squad is certainly a slick looking production , complete with nice hair and costumes , but that simply isn ' t enough . the film is best described as a cross between an hour - long cop show and a music video , both stretched out into the span of an hour and a half . and with it comes every single clich ? . it doesn ' t really matter that the film is based on a television show , as most of the plot elements have been recycled from everything we ' ve already seen . the characters and acting is nothing spectacular , sometimes even bordering on wooden . claire danes and omar epps deliver their lines as if they are bored , which really transfers onto the audience . the only one to escape relatively unscathed is giovanni ribisi , who plays the resident crazy man , ultimately being the only thing worth watching .\""
            ],
            "application/vnd.google.colaboratory.intrinsic+json": {
              "type": "string"
            }
          },
          "metadata": {},
          "execution_count": 4
        }
      ]
    },
    {
      "cell_type": "code",
      "source": [
        "from nltk.tokenize import RegexpTokenizer\n",
        "tk = RegexpTokenizer(\"\\w+\")\n",
        "tokens = tk.tokenize(review)\n",
        "str(tokens[:20])"
      ],
      "metadata": {
        "colab": {
          "base_uri": "https://localhost:8080/",
          "height": 53
        },
        "id": "uJizY8B0oAKI",
        "outputId": "c65c6209-2f0d-40e3-8cb2-0218475b17e3"
      },
      "execution_count": 5,
      "outputs": [
        {
          "output_type": "execute_result",
          "data": {
            "text/plain": [
              "\"['it', 'is', 'movies', 'like', 'these', 'that', 'make', 'a', 'jaded', 'movie', 'viewer', 'thankful', 'for', 'the', 'invention', 'of', 'the', 'timex', 'indiglo', 'watch']\""
            ],
            "application/vnd.google.colaboratory.intrinsic+json": {
              "type": "string"
            }
          },
          "metadata": {},
          "execution_count": 5
        }
      ]
    },
    {
      "cell_type": "code",
      "source": [
        "nltk.download('stopwords')\n",
        "from nltk.corpus import stopwords\n",
        "stop_words = stopwords.words('english')\n",
        "print(stop_words[:15])"
      ],
      "metadata": {
        "colab": {
          "base_uri": "https://localhost:8080/"
        },
        "id": "qloPl2s0oO25",
        "outputId": "7762adcb-29ae-4e3f-b6a9-33b96af3d416"
      },
      "execution_count": 6,
      "outputs": [
        {
          "output_type": "stream",
          "name": "stdout",
          "text": [
            "['i', 'me', 'my', 'myself', 'we', 'our', 'ours', 'ourselves', 'you', \"you're\", \"you've\", \"you'll\", \"you'd\", 'your', 'yours']\n"
          ]
        },
        {
          "output_type": "stream",
          "name": "stderr",
          "text": [
            "[nltk_data] Downloading package stopwords to /root/nltk_data...\n",
            "[nltk_data]   Unzipping corpora/stopwords.zip.\n"
          ]
        }
      ]
    },
    {
      "cell_type": "code",
      "source": [
        "len(stop_words)"
      ],
      "metadata": {
        "colab": {
          "base_uri": "https://localhost:8080/"
        },
        "id": "NS30McC-oSD5",
        "outputId": "dd39c5d9-c912-41a3-8609-7d65f8175c93"
      },
      "execution_count": 7,
      "outputs": [
        {
          "output_type": "execute_result",
          "data": {
            "text/plain": [
              "179"
            ]
          },
          "metadata": {},
          "execution_count": 7
        }
      ]
    },
    {
      "cell_type": "code",
      "source": [
        "if type(stop_words)==list:\n",
        "  stop_words.append('watch')\n",
        "  stop_words.append('sorta')\n",
        "  stop_words.append(':')\n",
        "  stop_words.append(',')\n",
        "  stop_words.remove('it')\n",
        "  stop_words = set(stop_words)\n",
        "  print('No of stop words: ',len(stop_words))\n",
        "token_stop_words = [token for token in tokens if not token in stop_words]"
      ],
      "metadata": {
        "colab": {
          "base_uri": "https://localhost:8080/"
        },
        "id": "3lUVEQc-oStA",
        "outputId": "08a74b23-0207-4617-cb3f-f70af9d96ff6"
      },
      "execution_count": 8,
      "outputs": [
        {
          "output_type": "stream",
          "name": "stdout",
          "text": [
            "No of stop words:  182\n"
          ]
        }
      ]
    },
    {
      "cell_type": "code",
      "source": [
        "str(stop_words)"
      ],
      "metadata": {
        "colab": {
          "base_uri": "https://localhost:8080/",
          "height": 140
        },
        "id": "GTEZ6_GSoU3h",
        "outputId": "c0c75f0b-f8ed-46f8-dd5c-1a3bdfc71ea2"
      },
      "execution_count": 9,
      "outputs": [
        {
          "output_type": "execute_result",
          "data": {
            "text/plain": [
              "'{\\'y\\', \\'such\\', \\'whom\\', \\'here\\', \\'having\\', \\'very\\', \\',\\', \"she\\'s\", \\'yourselves\\', \\'and\\', \\'haven\\', \"aren\\'t\", \\'same\\', \\'wasn\\', \"should\\'ve\", \\'am\\', \\'their\\', \\'above\\', \"haven\\'t\", \"weren\\'t\", \\'my\\', \\'nor\\', \\'those\\', \\'don\\', \\'being\\', \\'didn\\', \\'sorta\\', \\'d\\', \\'she\\', \\'been\\', \\'that\\', \\'who\\', \\'with\\', \\'now\\', \\'other\\', \\'o\\', \\'so\\', \\'in\\', \\'as\\', \\'did\\', \\'these\\', \\'your\\', \\'needn\\', \\'down\\', \\'ll\\', \\'themselves\\', \\'is\\', \\'has\\', \\'be\\', \\'again\\', \"needn\\'t\", \\'why\\', \\'up\\', \\'yours\\', \\'have\\', \"won\\'t\", \\'to\\', \\'if\\', \\'before\\', \\'couldn\\', \"isn\\'t\", \\'itself\\', \\'had\\', \\'few\\', \\'each\\', \"shouldn\\'t\", \"hadn\\'t\", \\'we\\', \"you\\'ll\", \\'mightn\\', \"wasn\\'t\", \\'just\\', \\'isn\\', \\'a\\', \\'yourself\\', \\'what\\', \\'of\\', \\'an\\', \\'does\\', \\'more\\', \\'weren\\', \\'any\\', \\'t\\', \\'you\\', \\'because\\', \\'herself\\', \\'he\\', \\'about\\', \\'ourselves\\', \\'mustn\\', \\'on\\', \\'into\\', \\'ma\\', \\'hadn\\', \\'do\\', \\'wouldn\\', \\'no\\', \\'most\\', \\'myself\\', \\'or\\', \\'over\\', \\'against\\', \\'watch\\', \\'too\\', \\'aren\\', \\'himself\\', \\'doesn\\', \\'its\\', \\'should\\', \\'by\\', \\'than\\', \\'i\\', \\'own\\', \\'once\\', \"don\\'t\", \\'all\\', \"shan\\'t\", \\'shouldn\\', \\'at\\', \\'during\\', \\'not\\', \\'only\\', \\'s\\', \"mustn\\'t\", \"you\\'re\", \\'me\\', \"doesn\\'t\", \"hasn\\'t\", \\'hers\\', \\'this\\', \\'shan\\', \\'ours\\', \\'the\\', \\'off\\', \\'was\\', \\'further\\', \\'doing\\', \\'they\\', \\'them\\', \\'out\\', \\'for\\', \\'until\\', \"mightn\\'t\", \\'where\\', \\'won\\', \\'our\\', \\'were\\', \\'some\\', \"you\\'d\", \\'how\\', \"couldn\\'t\", \\'him\\', \\'theirs\\', \"wouldn\\'t\", \\'ain\\', \\'re\\', \\'can\\', \\'then\\', \"you\\'ve\", \\'his\\', \\'are\\', \\'while\\', \\'will\\', \\'through\\', \\'from\\', \\'there\\', \\'when\\', \"didn\\'t\", \\'under\\', \\'m\\', \\':\\', \\'which\\', \"that\\'ll\", \\'after\\', \\'both\\', \"it\\'s\", \\'her\\', \\'between\\', \\'ve\\', \\'below\\', \\'hasn\\', \\'but\\'}'"
            ],
            "application/vnd.google.colaboratory.intrinsic+json": {
              "type": "string"
            }
          },
          "metadata": {},
          "execution_count": 9
        }
      ]
    }
  ]
}